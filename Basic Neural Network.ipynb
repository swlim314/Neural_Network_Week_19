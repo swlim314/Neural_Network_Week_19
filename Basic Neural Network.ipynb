{
 "cells": [
  {
   "cell_type": "code",
   "execution_count": 1,
   "metadata": {},
   "outputs": [],
   "source": [
    "# Import our dependencies\n",
    "import pandas as pd\n",
    "import matplotlib as plt\n",
    "from sklearn.datasets import make_blobs\n",
    "import sklearn as skl\n",
    "import tensorflow as tf"
   ]
  },
  {
   "cell_type": "code",
   "execution_count": 2,
   "metadata": {},
   "outputs": [
    {
     "data": {
      "text/plain": [
       "<AxesSubplot:xlabel='Feature 1', ylabel='Feature 2'>"
      ]
     },
     "execution_count": 2,
     "metadata": {},
     "output_type": "execute_result"
    },
    {
     "data": {
      "image/png": "[encoded data removed]",
      "text/plain": [
       "<Figure size 432x288 with 2 Axes>"
      ]
     },
     "metadata": {
      "needs_background": "light"
     },
     "output_type": "display_data"
    }
   ],
   "source": [
    "# Generate dummy dataset\n",
    "X, y = make_blobs(n_samples=1000, centers=2, n_features=2, random_state=78)\n",
    "\n",
    "# Creating a DataFrame with the dummy data\n",
    "df = pd.DataFrame(X, columns=[\"Feature 1\", \"Feature 2\"])\n",
    "df[\"Target\"] = y\n",
    "\n",
    "# Plotting the dummy data\n",
    "df.plot.scatter(x=\"Feature 1\", y=\"Feature 2\", c=\"Target\", colormap=\"winter\")"
   ]
  },
  {
   "cell_type": "code",
   "execution_count": 3,
   "metadata": {},
   "outputs": [],
   "source": [
    "# Use sklearn to split dataset\n",
    "from sklearn.model_selection import train_test_split\n",
    "X_train, X_test, y_train, y_test = train_test_split(X, y, random_state=78)"
   ]
  },
  {
   "cell_type": "code",
   "execution_count": 4,
   "metadata": {},
   "outputs": [],
   "source": [
    "# Create scaler instance\n",
    "X_scaler = skl.preprocessing.StandardScaler()\n",
    "\n",
    "# Fit the scaler\n",
    "X_scaler.fit(X_train)\n",
    "\n",
    "# Scale the data\n",
    "X_train_scaled = X_scaler.transform(X_train)\n",
    "X_test_scaled = X_scaler.transform(X_test)"
   ]
  },
  {
   "cell_type": "code",
   "execution_count": 5,
   "metadata": {},
   "outputs": [],
   "source": [
    "# Create the Keras Sequential model\n",
    "nn_model = tf.keras.models.Sequential()"
   ]
  },
  {
   "cell_type": "code",
   "execution_count": 6,
   "metadata": {},
   "outputs": [],
   "source": [
    "# Add our first Dense layer, including the input layer\n",
    "nn_model.add(tf.keras.layers.Dense(units=1, activation=\"relu\", input_dim=2))"
   ]
  },
  {
   "cell_type": "code",
   "execution_count": 7,
   "metadata": {},
   "outputs": [],
   "source": [
    "# Add the output layer that uses a probability activation function\n",
    "nn_model.add(tf.keras.layers.Dense(units=1, activation=\"sigmoid\"))"
   ]
  },
  {
   "cell_type": "code",
   "execution_count": 8,
   "metadata": {},
   "outputs": [
    {
     "name": "stdout",
     "output_type": "stream",
     "text": [
      "Model: \"sequential\"\n",
      "_________________________________________________________________\n",
      "Layer (type)                 Output Shape              Param #   \n",
      "=================================================================\n",
      "dense (Dense)                (None, 1)                 3         \n",
      "_________________________________________________________________\n",
      "dense_1 (Dense)              (None, 1)                 2         \n",
      "=================================================================\n",
      "Total params: 5\n",
      "Trainable params: 5\n",
      "Non-trainable params: 0\n",
      "_________________________________________________________________\n"
     ]
    }
   ],
   "source": [
    "# Check the structure of the Sequential model\n",
    "nn_model.summary()"
   ]
  },
  {
   "cell_type": "code",
   "execution_count": 9,
   "metadata": {},
   "outputs": [],
   "source": [
    "# Compile the Sequential model together and customize metrics\n",
    "nn_model.compile(loss=\"binary_crossentropy\", optimizer=\"adam\", metrics=[\"accuracy\"])"
   ]
  },
  {
   "cell_type": "code",
   "execution_count": 10,
   "metadata": {},
   "outputs": [
    {
     "name": "stdout",
     "output_type": "stream",
     "text": [
      "Epoch 1/100\n",
      "24/24 [==============================] - 0s 348us/step - loss: 0.9801 - accuracy: 0.0040\n",
      "Epoch 2/100\n",
      "24/24 [==============================] - 0s 348us/step - loss: 0.9382 - accuracy: 0.0080\n",
      "Epoch 3/100\n",
      "24/24 [==============================] - 0s 348us/step - loss: 0.9007 - accuracy: 0.0213\n",
      "Epoch 4/100\n",
      "24/24 [==============================] - 0s 348us/step - loss: 0.8682 - accuracy: 0.0440\n",
      "Epoch 5/100\n",
      "24/24 [==============================] - 0s 392us/step - loss: 0.8399 - accuracy: 0.0760\n",
      "Epoch 6/100\n",
      "24/24 [==============================] - 0s 392us/step - loss: 0.8165 - accuracy: 0.1173\n",
      "Epoch 7/100\n",
      "24/24 [==============================] - 0s 392us/step - loss: 0.7967 - accuracy: 0.1600\n",
      "Epoch 8/100\n",
      "24/24 [==============================] - 0s 392us/step - loss: 0.7805 - accuracy: 0.1960\n",
      "Epoch 9/100\n",
      "24/24 [==============================] - 0s 392us/step - loss: 0.7678 - accuracy: 0.2293\n",
      "Epoch 10/100\n",
      "24/24 [==============================] - 0s 348us/step - loss: 0.7567 - accuracy: 0.2680\n",
      "Epoch 11/100\n",
      "24/24 [==============================] - 0s 348us/step - loss: 0.7478 - accuracy: 0.2933\n",
      "Epoch 12/100\n",
      "24/24 [==============================] - 0s 348us/step - loss: 0.7401 - accuracy: 0.3173\n",
      "Epoch 13/100\n",
      "24/24 [==============================] - 0s 348us/step - loss: 0.7336 - accuracy: 0.3373\n",
      "Epoch 14/100\n",
      "24/24 [==============================] - 0s 348us/step - loss: 0.7276 - accuracy: 0.3613\n",
      "Epoch 15/100\n",
      "24/24 [==============================] - 0s 348us/step - loss: 0.7223 - accuracy: 0.3773\n",
      "Epoch 16/100\n",
      "24/24 [==============================] - 0s 392us/step - loss: 0.7172 - accuracy: 0.4013\n",
      "Epoch 17/100\n",
      "24/24 [==============================] - 0s 392us/step - loss: 0.7125 - accuracy: 0.4200\n",
      "Epoch 18/100\n",
      "24/24 [==============================] - 0s 348us/step - loss: 0.7084 - accuracy: 0.4480\n",
      "Epoch 19/100\n",
      "24/24 [==============================] - 0s 392us/step - loss: 0.7043 - accuracy: 0.4667\n",
      "Epoch 20/100\n",
      "24/24 [==============================] - 0s 392us/step - loss: 0.7003 - accuracy: 0.4840\n",
      "Epoch 21/100\n",
      "24/24 [==============================] - 0s 392us/step - loss: 0.6963 - accuracy: 0.5000\n",
      "Epoch 22/100\n",
      "24/24 [==============================] - 0s 392us/step - loss: 0.6924 - accuracy: 0.5253\n",
      "Epoch 23/100\n",
      "24/24 [==============================] - 0s 348us/step - loss: 0.6886 - accuracy: 0.5360\n",
      "Epoch 24/100\n",
      "24/24 [==============================] - 0s 348us/step - loss: 0.6849 - accuracy: 0.5467\n",
      "Epoch 25/100\n",
      "24/24 [==============================] - 0s 348us/step - loss: 0.6809 - accuracy: 0.5613\n",
      "Epoch 26/100\n",
      "24/24 [==============================] - 0s 348us/step - loss: 0.6762 - accuracy: 0.5747\n",
      "Epoch 27/100\n",
      "24/24 [==============================] - 0s 348us/step - loss: 0.6712 - accuracy: 0.5973\n",
      "Epoch 28/100\n",
      "24/24 [==============================] - 0s 392us/step - loss: 0.6656 - accuracy: 0.6120\n",
      "Epoch 29/100\n",
      "24/24 [==============================] - 0s 348us/step - loss: 0.6589 - accuracy: 0.6360\n",
      "Epoch 30/100\n",
      "24/24 [==============================] - 0s 348us/step - loss: 0.6517 - accuracy: 0.6693\n",
      "Epoch 31/100\n",
      "24/24 [==============================] - 0s 348us/step - loss: 0.6442 - accuracy: 0.6840\n",
      "Epoch 32/100\n",
      "24/24 [==============================] - 0s 392us/step - loss: 0.6358 - accuracy: 0.6987\n",
      "Epoch 33/100\n",
      "24/24 [==============================] - 0s 392us/step - loss: 0.6274 - accuracy: 0.7187\n",
      "Epoch 34/100\n",
      "24/24 [==============================] - 0s 392us/step - loss: 0.6184 - accuracy: 0.7293\n",
      "Epoch 35/100\n",
      "24/24 [==============================] - 0s 392us/step - loss: 0.6092 - accuracy: 0.7440\n",
      "Epoch 36/100\n",
      "24/24 [==============================] - 0s 392us/step - loss: 0.6000 - accuracy: 0.7520\n",
      "Epoch 37/100\n",
      "24/24 [==============================] - 0s 392us/step - loss: 0.5905 - accuracy: 0.7573\n",
      "Epoch 38/100\n",
      "24/24 [==============================] - 0s 392us/step - loss: 0.5807 - accuracy: 0.7667\n",
      "Epoch 39/100\n",
      "24/24 [==============================] - 0s 392us/step - loss: 0.5707 - accuracy: 0.7840\n",
      "Epoch 40/100\n",
      "24/24 [==============================] - 0s 392us/step - loss: 0.5598 - accuracy: 0.7973\n",
      "Epoch 41/100\n",
      "24/24 [==============================] - 0s 348us/step - loss: 0.5492 - accuracy: 0.8053\n",
      "Epoch 42/100\n",
      "24/24 [==============================] - 0s 348us/step - loss: 0.5383 - accuracy: 0.8213\n",
      "Epoch 43/100\n",
      "24/24 [==============================] - 0s 348us/step - loss: 0.5273 - accuracy: 0.8333\n",
      "Epoch 44/100\n",
      "24/24 [==============================] - 0s 392us/step - loss: 0.5163 - accuracy: 0.8427\n",
      "Epoch 45/100\n",
      "24/24 [==============================] - 0s 348us/step - loss: 0.5055 - accuracy: 0.8533\n",
      "Epoch 46/100\n",
      "24/24 [==============================] - 0s 392us/step - loss: 0.4947 - accuracy: 0.8587\n",
      "Epoch 47/100\n",
      "24/24 [==============================] - 0s 392us/step - loss: 0.4839 - accuracy: 0.8707\n",
      "Epoch 48/100\n",
      "24/24 [==============================] - 0s 392us/step - loss: 0.4732 - accuracy: 0.8773\n",
      "Epoch 49/100\n",
      "24/24 [==============================] - 0s 392us/step - loss: 0.4623 - accuracy: 0.8800\n",
      "Epoch 50/100\n",
      "24/24 [==============================] - 0s 348us/step - loss: 0.4516 - accuracy: 0.8827\n",
      "Epoch 51/100\n",
      "24/24 [==============================] - 0s 348us/step - loss: 0.4413 - accuracy: 0.8893\n",
      "Epoch 52/100\n",
      "24/24 [==============================] - 0s 348us/step - loss: 0.4312 - accuracy: 0.8920\n",
      "Epoch 53/100\n",
      "24/24 [==============================] - 0s 392us/step - loss: 0.4211 - accuracy: 0.9013\n",
      "Epoch 54/100\n",
      "24/24 [==============================] - 0s 348us/step - loss: 0.4110 - accuracy: 0.9080\n",
      "Epoch 55/100\n",
      "24/24 [==============================] - 0s 348us/step - loss: 0.4012 - accuracy: 0.9120\n",
      "Epoch 56/100\n",
      "24/24 [==============================] - 0s 348us/step - loss: 0.3915 - accuracy: 0.9187\n",
      "Epoch 57/100\n",
      "24/24 [==============================] - 0s 348us/step - loss: 0.3819 - accuracy: 0.9213\n",
      "Epoch 58/100\n",
      "24/24 [==============================] - 0s 392us/step - loss: 0.3728 - accuracy: 0.9213\n",
      "Epoch 59/100\n",
      "24/24 [==============================] - 0s 392us/step - loss: 0.3638 - accuracy: 0.9280\n",
      "Epoch 60/100\n",
      "24/24 [==============================] - 0s 392us/step - loss: 0.3552 - accuracy: 0.9320\n",
      "Epoch 61/100\n",
      "24/24 [==============================] - 0s 348us/step - loss: 0.3468 - accuracy: 0.9320\n",
      "Epoch 62/100\n",
      "24/24 [==============================] - 0s 348us/step - loss: 0.3386 - accuracy: 0.9347\n",
      "Epoch 63/100\n",
      "24/24 [==============================] - 0s 348us/step - loss: 0.3305 - accuracy: 0.9427\n",
      "Epoch 64/100\n",
      "24/24 [==============================] - 0s 392us/step - loss: 0.3225 - accuracy: 0.9467\n",
      "Epoch 65/100\n",
      "24/24 [==============================] - 0s 392us/step - loss: 0.3146 - accuracy: 0.9467\n",
      "Epoch 66/100\n",
      "24/24 [==============================] - 0s 392us/step - loss: 0.3070 - accuracy: 0.9480\n",
      "Epoch 67/100\n",
      "24/24 [==============================] - 0s 392us/step - loss: 0.2995 - accuracy: 0.9507\n",
      "Epoch 68/100\n",
      "24/24 [==============================] - 0s 348us/step - loss: 0.2921 - accuracy: 0.9533\n",
      "Epoch 69/100\n",
      "24/24 [==============================] - 0s 348us/step - loss: 0.2847 - accuracy: 0.9560\n",
      "Epoch 70/100\n",
      "24/24 [==============================] - 0s 348us/step - loss: 0.2774 - accuracy: 0.9560\n",
      "Epoch 71/100\n",
      "24/24 [==============================] - 0s 392us/step - loss: 0.2703 - accuracy: 0.9587\n",
      "Epoch 72/100\n",
      "24/24 [==============================] - 0s 392us/step - loss: 0.2634 - accuracy: 0.9600\n",
      "Epoch 73/100\n",
      "24/24 [==============================] - 0s 348us/step - loss: 0.2567 - accuracy: 0.9627\n",
      "Epoch 74/100\n",
      "24/24 [==============================] - 0s 348us/step - loss: 0.2501 - accuracy: 0.9627\n",
      "Epoch 75/100\n",
      "24/24 [==============================] - 0s 392us/step - loss: 0.2439 - accuracy: 0.9640\n",
      "Epoch 76/100\n",
      "24/24 [==============================] - 0s 348us/step - loss: 0.2377 - accuracy: 0.9653\n",
      "Epoch 77/100\n",
      "24/24 [==============================] - 0s 348us/step - loss: 0.2317 - accuracy: 0.9680\n",
      "Epoch 78/100\n",
      "24/24 [==============================] - 0s 348us/step - loss: 0.2260 - accuracy: 0.9707\n",
      "Epoch 79/100\n",
      "24/24 [==============================] - 0s 435us/step - loss: 0.2205 - accuracy: 0.9733\n",
      "Epoch 80/100\n",
      "24/24 [==============================] - 0s 392us/step - loss: 0.2152 - accuracy: 0.9747\n",
      "Epoch 81/100\n"
     ]
    },
    {
     "name": "stdout",
     "output_type": "stream",
     "text": [
      "24/24 [==============================] - 0s 348us/step - loss: 0.2101 - accuracy: 0.9760\n",
      "Epoch 82/100\n",
      "24/24 [==============================] - 0s 348us/step - loss: 0.2050 - accuracy: 0.9787\n",
      "Epoch 83/100\n",
      "24/24 [==============================] - 0s 348us/step - loss: 0.2003 - accuracy: 0.9800\n",
      "Epoch 84/100\n",
      "24/24 [==============================] - 0s 392us/step - loss: 0.1956 - accuracy: 0.9827\n",
      "Epoch 85/100\n",
      "24/24 [==============================] - 0s 348us/step - loss: 0.1912 - accuracy: 0.9840\n",
      "Epoch 86/100\n",
      "24/24 [==============================] - 0s 348us/step - loss: 0.1867 - accuracy: 0.9840\n",
      "Epoch 87/100\n",
      "24/24 [==============================] - 0s 348us/step - loss: 0.1824 - accuracy: 0.9853\n",
      "Epoch 88/100\n",
      "24/24 [==============================] - 0s 392us/step - loss: 0.1781 - accuracy: 0.9853\n",
      "Epoch 89/100\n",
      "24/24 [==============================] - 0s 392us/step - loss: 0.1740 - accuracy: 0.9853\n",
      "Epoch 90/100\n",
      "24/24 [==============================] - 0s 363us/step - loss: 0.1700 - accuracy: 0.9853\n",
      "Epoch 91/100\n",
      "24/24 [==============================] - 0s 392us/step - loss: 0.1661 - accuracy: 0.9867\n",
      "Epoch 92/100\n",
      "24/24 [==============================] - 0s 348us/step - loss: 0.1622 - accuracy: 0.9893\n",
      "Epoch 93/100\n",
      "24/24 [==============================] - 0s 348us/step - loss: 0.1585 - accuracy: 0.9920\n",
      "Epoch 94/100\n",
      "24/24 [==============================] - 0s 348us/step - loss: 0.1548 - accuracy: 0.9920\n",
      "Epoch 95/100\n",
      "24/24 [==============================] - 0s 348us/step - loss: 0.1513 - accuracy: 0.9920\n",
      "Epoch 96/100\n",
      "24/24 [==============================] - 0s 392us/step - loss: 0.1479 - accuracy: 0.9920\n",
      "Epoch 97/100\n",
      "24/24 [==============================] - 0s 392us/step - loss: 0.1446 - accuracy: 0.9920\n",
      "Epoch 98/100\n",
      "24/24 [==============================] - 0s 348us/step - loss: 0.1415 - accuracy: 0.9920\n",
      "Epoch 99/100\n",
      "24/24 [==============================] - 0s 348us/step - loss: 0.1384 - accuracy: 0.9920\n",
      "Epoch 100/100\n",
      "24/24 [==============================] - 0s 348us/step - loss: 0.1354 - accuracy: 0.9920\n"
     ]
    }
   ],
   "source": [
    "# Fit the model to the training data\n",
    "fit_model = nn_model.fit(X_train_scaled, y_train, epochs=100)"
   ]
  },
  {
   "cell_type": "code",
   "execution_count": 11,
   "metadata": {},
   "outputs": [
    {
     "data": {
      "text/plain": [
       "<AxesSubplot:>"
      ]
     },
     "execution_count": 11,
     "metadata": {},
     "output_type": "execute_result"
    },
    {
     "data": {
      "image/png": "[encoded data removed]",
      "text/plain": [
       "<Figure size 432x288 with 1 Axes>"
      ]
     },
     "metadata": {
      "needs_background": "light"
     },
     "output_type": "display_data"
    }
   ],
   "source": [
    "# Create a DataFrame containing training history\n",
    "history_df = pd.DataFrame(fit_model.history, index=range(1,len(fit_model.history[\"loss\"])+1))\n",
    "\n",
    "# Plot the loss\n",
    "history_df.plot(y=\"loss\")"
   ]
  },
  {
   "cell_type": "code",
   "execution_count": 12,
   "metadata": {},
   "outputs": [
    {
     "data": {
      "text/plain": [
       "<AxesSubplot:>"
      ]
     },
     "execution_count": 12,
     "metadata": {},
     "output_type": "execute_result"
    },
    {
     "data": {
      "image/png": "[encoded data removed]",
      "text/plain": [
       "<Figure size 432x288 with 1 Axes>"
      ]
     },
     "metadata": {
      "needs_background": "light"
     },
     "output_type": "display_data"
    }
   ],
   "source": [
    "# Plot the accuracy\n",
    "history_df.plot(y=\"accuracy\")"
   ]
  },
  {
   "cell_type": "code",
   "execution_count": 13,
   "metadata": {},
   "outputs": [
    {
     "name": "stdout",
     "output_type": "stream",
     "text": [
      "8/8 - 0s - loss: 0.1240 - accuracy: 0.9960\n",
      "Loss: 0.12402728945016861, Accuracy: 0.9959999918937683\n"
     ]
    }
   ],
   "source": [
    "# Evaluate the model using the test data\n",
    "model_loss, model_accuracy = nn_model.evaluate(X_test_scaled,y_test,verbose=2)\n",
    "print(f\"Loss: {model_loss}, Accuracy: {model_accuracy}\")"
   ]
  },
  {
   "cell_type": "code",
   "execution_count": 14,
   "metadata": {},
   "outputs": [
    {
     "data": {
      "text/plain": [
       "array([[0],\n",
       "       [1],\n",
       "       [0],\n",
       "       [1],\n",
       "       [0],\n",
       "       [0],\n",
       "       [1],\n",
       "       [1],\n",
       "       [1],\n",
       "       [0]])"
      ]
     },
     "execution_count": 14,
     "metadata": {},
     "output_type": "execute_result"
    }
   ],
   "source": [
    "# Predict the classification of a new set of blob data\n",
    "new_X, new_Y = make_blobs(n_samples=10, centers=2, n_features=2, random_state=78)\n",
    "new_X_scaled = X_scaler.transform(new_X)\n",
    "(nn_model.predict(new_X_scaled) > 0.5).astype(\"int32\")"
   ]
  },
  {
   "cell_type": "code",
   "execution_count": 15,
   "metadata": {},
   "outputs": [
    {
     "data": {
      "text/plain": [
       "<AxesSubplot:xlabel='Feature 1', ylabel='Feature 2'>"
      ]
     },
     "execution_count": 15,
     "metadata": {},
     "output_type": "execute_result"
    },
    {
     "data": {
      "image/png": "[encoded data removed]",
      "text/plain": [
       "<Figure size 432x288 with 2 Axes>"
      ]
     },
     "metadata": {
      "needs_background": "light"
     },
     "output_type": "display_data"
    }
   ],
   "source": [
    "from sklearn.datasets import make_moons\n",
    "\n",
    "# Creating dummy nonlinear data\n",
    "X_moons, y_moons = make_moons(n_samples=1000, noise=0.08, random_state=78)\n",
    "\n",
    "# Transforming y_moons to a vertical vector\n",
    "y_moons = y_moons.reshape(-1, 1)\n",
    "\n",
    "# Creating a DataFrame to plot the nonlinear dummy data\n",
    "df_moons = pd.DataFrame(X_moons, columns=[\"Feature 1\", \"Feature 2\"])\n",
    "df_moons[\"Target\"] = y_moons\n",
    "\n",
    "# Plot the nonlinear dummy data\n",
    "df_moons.plot.scatter(x=\"Feature 1\",y=\"Feature 2\", c=\"Target\",colormap=\"winter\")\n"
   ]
  },
  {
   "cell_type": "code",
   "execution_count": 16,
   "metadata": {},
   "outputs": [],
   "source": [
    "# Create training and testing sets\n",
    "X_moon_train, X_moon_test, y_moon_train, y_moon_test = train_test_split(\n",
    "    X_moons, y_moons, random_state=78\n",
    ")\n",
    "\n",
    "# Create the scaler instance\n",
    "X_moon_scaler = skl.preprocessing.StandardScaler()\n",
    "\n",
    "# Fit the scaler\n",
    "X_moon_scaler.fit(X_moon_train)\n",
    "\n",
    "# Scale the data\n",
    "X_moon_train_scaled = X_moon_scaler.transform(X_moon_train)\n",
    "X_moon_test_scaled = X_moon_scaler.transform(X_moon_test)"
   ]
  },
  {
   "cell_type": "code",
   "execution_count": 17,
   "metadata": {},
   "outputs": [
    {
     "name": "stdout",
     "output_type": "stream",
     "text": [
      "Epoch 1/100\n",
      "24/24 [==============================] - 0s 566us/step - loss: 1.3964 - accuracy: 0.3227\n",
      "Epoch 2/100\n",
      "24/24 [==============================] - 0s 522us/step - loss: 1.2009 - accuracy: 0.3560\n",
      "Epoch 3/100\n",
      "24/24 [==============================] - 0s 522us/step - loss: 1.0612 - accuracy: 0.3813\n",
      "Epoch 4/100\n",
      "24/24 [==============================] - 0s 522us/step - loss: 0.9709 - accuracy: 0.4013\n",
      "Epoch 5/100\n",
      "24/24 [==============================] - 0s 522us/step - loss: 0.9035 - accuracy: 0.4320\n",
      "Epoch 6/100\n",
      "24/24 [==============================] - 0s 566us/step - loss: 0.8527 - accuracy: 0.4653\n",
      "Epoch 7/100\n",
      "24/24 [==============================] - 0s 522us/step - loss: 0.8132 - accuracy: 0.4907\n",
      "Epoch 8/100\n",
      "24/24 [==============================] - 0s 566us/step - loss: 0.7798 - accuracy: 0.5213\n",
      "Epoch 9/100\n",
      "24/24 [==============================] - 0s 566us/step - loss: 0.7526 - accuracy: 0.5400\n",
      "Epoch 10/100\n",
      "24/24 [==============================] - 0s 566us/step - loss: 0.7296 - accuracy: 0.5547\n",
      "Epoch 11/100\n",
      "24/24 [==============================] - 0s 566us/step - loss: 0.7099 - accuracy: 0.5707\n",
      "Epoch 12/100\n",
      "24/24 [==============================] - 0s 566us/step - loss: 0.6920 - accuracy: 0.5853\n",
      "Epoch 13/100\n",
      "24/24 [==============================] - 0s 566us/step - loss: 0.6758 - accuracy: 0.6093\n",
      "Epoch 14/100\n",
      "24/24 [==============================] - 0s 522us/step - loss: 0.6619 - accuracy: 0.6173\n",
      "Epoch 15/100\n",
      "24/24 [==============================] - 0s 566us/step - loss: 0.6489 - accuracy: 0.6253\n",
      "Epoch 16/100\n",
      "24/24 [==============================] - 0s 566us/step - loss: 0.6368 - accuracy: 0.6333\n",
      "Epoch 17/100\n",
      "24/24 [==============================] - 0s 522us/step - loss: 0.6258 - accuracy: 0.6453\n",
      "Epoch 18/100\n",
      "24/24 [==============================] - 0s 566us/step - loss: 0.6155 - accuracy: 0.6547\n",
      "Epoch 19/100\n",
      "24/24 [==============================] - 0s 566us/step - loss: 0.6054 - accuracy: 0.6600\n",
      "Epoch 20/100\n",
      "24/24 [==============================] - 0s 609us/step - loss: 0.5954 - accuracy: 0.6667\n",
      "Epoch 21/100\n",
      "24/24 [==============================] - 0s 609us/step - loss: 0.5863 - accuracy: 0.6773\n",
      "Epoch 22/100\n",
      "24/24 [==============================] - 0s 522us/step - loss: 0.5782 - accuracy: 0.6840\n",
      "Epoch 23/100\n",
      "24/24 [==============================] - 0s 566us/step - loss: 0.5704 - accuracy: 0.6867\n",
      "Epoch 24/100\n",
      "24/24 [==============================] - 0s 522us/step - loss: 0.5629 - accuracy: 0.6880\n",
      "Epoch 25/100\n",
      "24/24 [==============================] - 0s 566us/step - loss: 0.5559 - accuracy: 0.6920\n",
      "Epoch 26/100\n",
      "24/24 [==============================] - 0s 522us/step - loss: 0.5487 - accuracy: 0.6933\n",
      "Epoch 27/100\n",
      "24/24 [==============================] - 0s 566us/step - loss: 0.5421 - accuracy: 0.6960\n",
      "Epoch 28/100\n",
      "24/24 [==============================] - 0s 522us/step - loss: 0.5357 - accuracy: 0.6960\n",
      "Epoch 29/100\n",
      "24/24 [==============================] - 0s 566us/step - loss: 0.5297 - accuracy: 0.7013\n",
      "Epoch 30/100\n",
      "24/24 [==============================] - 0s 566us/step - loss: 0.5238 - accuracy: 0.7053\n",
      "Epoch 31/100\n",
      "24/24 [==============================] - 0s 566us/step - loss: 0.5182 - accuracy: 0.7080\n",
      "Epoch 32/100\n",
      "24/24 [==============================] - 0s 566us/step - loss: 0.5126 - accuracy: 0.7160\n",
      "Epoch 33/100\n",
      "24/24 [==============================] - 0s 566us/step - loss: 0.5070 - accuracy: 0.7213\n",
      "Epoch 34/100\n",
      "24/24 [==============================] - 0s 566us/step - loss: 0.5017 - accuracy: 0.7320\n",
      "Epoch 35/100\n",
      "24/24 [==============================] - 0s 522us/step - loss: 0.4966 - accuracy: 0.7333\n",
      "Epoch 36/100\n",
      "24/24 [==============================] - 0s 609us/step - loss: 0.4917 - accuracy: 0.7400\n",
      "Epoch 37/100\n",
      "24/24 [==============================] - 0s 566us/step - loss: 0.4870 - accuracy: 0.7453\n",
      "Epoch 38/100\n",
      "24/24 [==============================] - 0s 522us/step - loss: 0.4821 - accuracy: 0.7493\n",
      "Epoch 39/100\n",
      "24/24 [==============================] - 0s 566us/step - loss: 0.4775 - accuracy: 0.7507\n",
      "Epoch 40/100\n",
      "24/24 [==============================] - 0s 566us/step - loss: 0.4732 - accuracy: 0.7520\n",
      "Epoch 41/100\n",
      "24/24 [==============================] - 0s 566us/step - loss: 0.4688 - accuracy: 0.7560\n",
      "Epoch 42/100\n",
      "24/24 [==============================] - 0s 566us/step - loss: 0.4645 - accuracy: 0.7613\n",
      "Epoch 43/100\n",
      "24/24 [==============================] - 0s 609us/step - loss: 0.4605 - accuracy: 0.7653\n",
      "Epoch 44/100\n",
      "24/24 [==============================] - 0s 566us/step - loss: 0.4565 - accuracy: 0.7667\n",
      "Epoch 45/100\n",
      "24/24 [==============================] - 0s 566us/step - loss: 0.4528 - accuracy: 0.7720\n",
      "Epoch 46/100\n",
      "24/24 [==============================] - 0s 609us/step - loss: 0.4491 - accuracy: 0.7747\n",
      "Epoch 47/100\n",
      "24/24 [==============================] - 0s 566us/step - loss: 0.4455 - accuracy: 0.7773\n",
      "Epoch 48/100\n",
      "24/24 [==============================] - 0s 566us/step - loss: 0.4420 - accuracy: 0.7827\n",
      "Epoch 49/100\n",
      "24/24 [==============================] - 0s 566us/step - loss: 0.4386 - accuracy: 0.7840\n",
      "Epoch 50/100\n",
      "24/24 [==============================] - 0s 522us/step - loss: 0.4351 - accuracy: 0.7840\n",
      "Epoch 51/100\n",
      "24/24 [==============================] - 0s 566us/step - loss: 0.4317 - accuracy: 0.7867\n",
      "Epoch 52/100\n",
      "24/24 [==============================] - 0s 566us/step - loss: 0.4283 - accuracy: 0.7920\n",
      "Epoch 53/100\n",
      "24/24 [==============================] - 0s 566us/step - loss: 0.4249 - accuracy: 0.7947\n",
      "Epoch 54/100\n",
      "24/24 [==============================] - 0s 566us/step - loss: 0.4216 - accuracy: 0.7973\n",
      "Epoch 55/100\n",
      "24/24 [==============================] - 0s 566us/step - loss: 0.4184 - accuracy: 0.8013\n",
      "Epoch 56/100\n",
      "24/24 [==============================] - 0s 566us/step - loss: 0.4152 - accuracy: 0.8053\n",
      "Epoch 57/100\n",
      "24/24 [==============================] - 0s 566us/step - loss: 0.4119 - accuracy: 0.8067\n",
      "Epoch 58/100\n",
      "24/24 [==============================] - 0s 566us/step - loss: 0.4085 - accuracy: 0.8080\n",
      "Epoch 59/100\n",
      "24/24 [==============================] - 0s 566us/step - loss: 0.4051 - accuracy: 0.8093\n",
      "Epoch 60/100\n",
      "24/24 [==============================] - 0s 609us/step - loss: 0.4017 - accuracy: 0.8147\n",
      "Epoch 61/100\n",
      "24/24 [==============================] - 0s 609us/step - loss: 0.3982 - accuracy: 0.8187\n",
      "Epoch 62/100\n",
      "24/24 [==============================] - 0s 609us/step - loss: 0.3946 - accuracy: 0.8253\n",
      "Epoch 63/100\n",
      "24/24 [==============================] - 0s 566us/step - loss: 0.3911 - accuracy: 0.8267\n",
      "Epoch 64/100\n",
      "24/24 [==============================] - 0s 566us/step - loss: 0.3876 - accuracy: 0.8333\n",
      "Epoch 65/100\n",
      "24/24 [==============================] - 0s 522us/step - loss: 0.3841 - accuracy: 0.8360\n",
      "Epoch 66/100\n",
      "24/24 [==============================] - 0s 566us/step - loss: 0.3806 - accuracy: 0.8360\n",
      "Epoch 67/100\n",
      "24/24 [==============================] - 0s 566us/step - loss: 0.3772 - accuracy: 0.8373\n",
      "Epoch 68/100\n",
      "24/24 [==============================] - 0s 522us/step - loss: 0.3738 - accuracy: 0.8400\n",
      "Epoch 69/100\n",
      "24/24 [==============================] - 0s 566us/step - loss: 0.3704 - accuracy: 0.8387\n",
      "Epoch 70/100\n",
      "24/24 [==============================] - 0s 609us/step - loss: 0.3670 - accuracy: 0.8427\n",
      "Epoch 71/100\n",
      "24/24 [==============================] - 0s 566us/step - loss: 0.3638 - accuracy: 0.8440\n",
      "Epoch 72/100\n",
      "24/24 [==============================] - 0s 544us/step - loss: 0.3607 - accuracy: 0.8453\n",
      "Epoch 73/100\n",
      "24/24 [==============================] - 0s 522us/step - loss: 0.3574 - accuracy: 0.8467\n",
      "Epoch 74/100\n",
      "24/24 [==============================] - 0s 609us/step - loss: 0.3540 - accuracy: 0.8493\n",
      "Epoch 75/100\n",
      "24/24 [==============================] - 0s 566us/step - loss: 0.3504 - accuracy: 0.8493\n",
      "Epoch 76/100\n",
      "24/24 [==============================] - 0s 566us/step - loss: 0.3471 - accuracy: 0.8507\n",
      "Epoch 77/100\n",
      "24/24 [==============================] - 0s 566us/step - loss: 0.3439 - accuracy: 0.8533\n",
      "Epoch 78/100\n",
      "24/24 [==============================] - 0s 522us/step - loss: 0.3406 - accuracy: 0.8560\n",
      "Epoch 79/100\n",
      "24/24 [==============================] - 0s 566us/step - loss: 0.3376 - accuracy: 0.8573\n",
      "Epoch 80/100\n",
      "24/24 [==============================] - 0s 566us/step - loss: 0.3347 - accuracy: 0.8587\n",
      "Epoch 81/100\n"
     ]
    },
    {
     "name": "stdout",
     "output_type": "stream",
     "text": [
      "24/24 [==============================] - 0s 566us/step - loss: 0.3319 - accuracy: 0.8587\n",
      "Epoch 82/100\n",
      "24/24 [==============================] - 0s 566us/step - loss: 0.3292 - accuracy: 0.8640\n",
      "Epoch 83/100\n",
      "24/24 [==============================] - 0s 566us/step - loss: 0.3264 - accuracy: 0.8667\n",
      "Epoch 84/100\n",
      "24/24 [==============================] - 0s 522us/step - loss: 0.3238 - accuracy: 0.8667\n",
      "Epoch 85/100\n",
      "24/24 [==============================] - 0s 566us/step - loss: 0.3212 - accuracy: 0.8720\n",
      "Epoch 86/100\n",
      "24/24 [==============================] - 0s 566us/step - loss: 0.3187 - accuracy: 0.8733\n",
      "Epoch 87/100\n",
      "24/24 [==============================] - 0s 566us/step - loss: 0.3163 - accuracy: 0.8747\n",
      "Epoch 88/100\n",
      "24/24 [==============================] - 0s 566us/step - loss: 0.3138 - accuracy: 0.8747\n",
      "Epoch 89/100\n",
      "24/24 [==============================] - 0s 566us/step - loss: 0.3117 - accuracy: 0.8747\n",
      "Epoch 90/100\n",
      "24/24 [==============================] - 0s 522us/step - loss: 0.3096 - accuracy: 0.8787\n",
      "Epoch 91/100\n",
      "24/24 [==============================] - 0s 566us/step - loss: 0.3077 - accuracy: 0.8813\n",
      "Epoch 92/100\n",
      "24/24 [==============================] - 0s 522us/step - loss: 0.3059 - accuracy: 0.8813\n",
      "Epoch 93/100\n",
      "24/24 [==============================] - 0s 566us/step - loss: 0.3044 - accuracy: 0.8840\n",
      "Epoch 94/100\n",
      "24/24 [==============================] - 0s 566us/step - loss: 0.3027 - accuracy: 0.8853\n",
      "Epoch 95/100\n",
      "24/24 [==============================] - 0s 566us/step - loss: 0.3013 - accuracy: 0.8853\n",
      "Epoch 96/100\n",
      "24/24 [==============================] - 0s 522us/step - loss: 0.2997 - accuracy: 0.8867\n",
      "Epoch 97/100\n",
      "24/24 [==============================] - 0s 566us/step - loss: 0.2985 - accuracy: 0.8867\n",
      "Epoch 98/100\n",
      "24/24 [==============================] - 0s 566us/step - loss: 0.2973 - accuracy: 0.8867\n",
      "Epoch 99/100\n",
      "24/24 [==============================] - 0s 566us/step - loss: 0.2961 - accuracy: 0.8880\n",
      "Epoch 100/100\n",
      "24/24 [==============================] - 0s 519us/step - loss: 0.2950 - accuracy: 0.8880\n"
     ]
    }
   ],
   "source": [
    "# Training the model with the nonlinear data\n",
    "model_moon = nn_model.fit(X_moon_train_scaled, y_moon_train, epochs=100, shuffle=True)\n"
   ]
  },
  {
   "cell_type": "code",
   "execution_count": 18,
   "metadata": {},
   "outputs": [
    {
     "data": {
      "text/plain": [
       "<AxesSubplot:>"
      ]
     },
     "execution_count": 18,
     "metadata": {},
     "output_type": "execute_result"
    },
    {
     "data": {
      "image/png": "[encoded data removed]",
      "text/plain": [
       "<Figure size 432x288 with 1 Axes>"
      ]
     },
     "metadata": {
      "needs_background": "light"
     },
     "output_type": "display_data"
    }
   ],
   "source": [
    "# Create a DataFrame containing training history\n",
    "history_df = pd.DataFrame(model_moon.history, index=range(1,len(model_moon.history[\"loss\"])+1))\n",
    "\n",
    "# Plot the loss\n",
    "history_df.plot(y=\"loss\")"
   ]
  },
  {
   "cell_type": "code",
   "execution_count": 19,
   "metadata": {},
   "outputs": [
    {
     "data": {
      "text/plain": [
       "<AxesSubplot:>"
      ]
     },
     "execution_count": 19,
     "metadata": {},
     "output_type": "execute_result"
    },
    {
     "data": {
      "image/png": "[encoded data removed]",
      "text/plain": [
       "<Figure size 432x288 with 1 Axes>"
      ]
     },
     "metadata": {
      "needs_background": "light"
     },
     "output_type": "display_data"
    }
   ],
   "source": [
    "# Plot the accuracy\n",
    "history_df.plot(y=\"accuracy\")"
   ]
  },
  {
   "cell_type": "code",
   "execution_count": 20,
   "metadata": {},
   "outputs": [],
   "source": [
    "# Generate our new Sequential model\n",
    "new_model = tf.keras.models.Sequential()"
   ]
  },
  {
   "cell_type": "code",
   "execution_count": 21,
   "metadata": {},
   "outputs": [],
   "source": [
    "# Add the input and hidden layer\n",
    "number_inputs = 2\n",
    "number_hidden_nodes = 6\n",
    "\n",
    "new_model.add(tf.keras.layers.Dense(units=number_hidden_nodes, activation=\"relu\", input_dim=number_inputs))\n",
    "\n",
    "# Add the output layer that uses a probability activation function\n",
    "new_model.add(tf.keras.layers.Dense(units=1, activation=\"sigmoid\"))"
   ]
  },
  {
   "cell_type": "code",
   "execution_count": 22,
   "metadata": {},
   "outputs": [
    {
     "name": "stdout",
     "output_type": "stream",
     "text": [
      "Epoch 1/100\n",
      "24/24 [==============================] - 0s 392us/step - loss: 1.0650 - accuracy: 0.1773\n",
      "Epoch 2/100\n",
      "24/24 [==============================] - 0s 348us/step - loss: 0.9993 - accuracy: 0.1787\n",
      "Epoch 3/100\n",
      "24/24 [==============================] - 0s 348us/step - loss: 0.9414 - accuracy: 0.1933\n",
      "Epoch 4/100\n",
      "24/24 [==============================] - 0s 348us/step - loss: 0.8918 - accuracy: 0.2533\n",
      "Epoch 5/100\n",
      "24/24 [==============================] - 0s 392us/step - loss: 0.8473 - accuracy: 0.2840\n",
      "Epoch 6/100\n",
      "24/24 [==============================] - 0s 392us/step - loss: 0.8081 - accuracy: 0.3307\n",
      "Epoch 7/100\n",
      "24/24 [==============================] - 0s 373us/step - loss: 0.7717 - accuracy: 0.3813\n",
      "Epoch 8/100\n",
      "24/24 [==============================] - 0s 392us/step - loss: 0.7391 - accuracy: 0.4387\n",
      "Epoch 9/100\n",
      "24/24 [==============================] - 0s 392us/step - loss: 0.7082 - accuracy: 0.4933\n",
      "Epoch 10/100\n",
      "24/24 [==============================] - 0s 348us/step - loss: 0.6791 - accuracy: 0.5440\n",
      "Epoch 11/100\n",
      "24/24 [==============================] - 0s 348us/step - loss: 0.6518 - accuracy: 0.6267\n",
      "Epoch 12/100\n",
      "24/24 [==============================] - 0s 348us/step - loss: 0.6271 - accuracy: 0.7413\n",
      "Epoch 13/100\n",
      "24/24 [==============================] - 0s 392us/step - loss: 0.6046 - accuracy: 0.8227\n",
      "Epoch 14/100\n",
      "24/24 [==============================] - 0s 392us/step - loss: 0.5828 - accuracy: 0.8480\n",
      "Epoch 15/100\n",
      "24/24 [==============================] - 0s 348us/step - loss: 0.5612 - accuracy: 0.8480\n",
      "Epoch 16/100\n",
      "24/24 [==============================] - 0s 392us/step - loss: 0.5393 - accuracy: 0.8573\n",
      "Epoch 17/100\n",
      "24/24 [==============================] - 0s 392us/step - loss: 0.5173 - accuracy: 0.8653\n",
      "Epoch 18/100\n",
      "24/24 [==============================] - 0s 392us/step - loss: 0.4950 - accuracy: 0.8707\n",
      "Epoch 19/100\n",
      "24/24 [==============================] - 0s 392us/step - loss: 0.4732 - accuracy: 0.8733\n",
      "Epoch 20/100\n",
      "24/24 [==============================] - 0s 392us/step - loss: 0.4516 - accuracy: 0.8800\n",
      "Epoch 21/100\n",
      "24/24 [==============================] - 0s 348us/step - loss: 0.4310 - accuracy: 0.8840\n",
      "Epoch 22/100\n",
      "24/24 [==============================] - 0s 392us/step - loss: 0.4116 - accuracy: 0.8880\n",
      "Epoch 23/100\n",
      "24/24 [==============================] - 0s 392us/step - loss: 0.3936 - accuracy: 0.8893\n",
      "Epoch 24/100\n",
      "24/24 [==============================] - 0s 392us/step - loss: 0.3772 - accuracy: 0.8880\n",
      "Epoch 25/100\n",
      "24/24 [==============================] - 0s 392us/step - loss: 0.3623 - accuracy: 0.8840\n",
      "Epoch 26/100\n",
      "24/24 [==============================] - 0s 392us/step - loss: 0.3488 - accuracy: 0.8853\n",
      "Epoch 27/100\n",
      "24/24 [==============================] - 0s 348us/step - loss: 0.3367 - accuracy: 0.8907\n",
      "Epoch 28/100\n",
      "24/24 [==============================] - 0s 392us/step - loss: 0.3259 - accuracy: 0.8907\n",
      "Epoch 29/100\n",
      "24/24 [==============================] - 0s 392us/step - loss: 0.3164 - accuracy: 0.8893\n",
      "Epoch 30/100\n",
      "24/24 [==============================] - 0s 392us/step - loss: 0.3081 - accuracy: 0.8907\n",
      "Epoch 31/100\n",
      "24/24 [==============================] - 0s 435us/step - loss: 0.3009 - accuracy: 0.8907\n",
      "Epoch 32/100\n",
      "24/24 [==============================] - 0s 392us/step - loss: 0.2944 - accuracy: 0.8947\n",
      "Epoch 33/100\n",
      "24/24 [==============================] - 0s 392us/step - loss: 0.2889 - accuracy: 0.8947\n",
      "Epoch 34/100\n",
      "24/24 [==============================] - 0s 348us/step - loss: 0.2838 - accuracy: 0.8960\n",
      "Epoch 35/100\n",
      "24/24 [==============================] - 0s 348us/step - loss: 0.2796 - accuracy: 0.8960\n",
      "Epoch 36/100\n",
      "24/24 [==============================] - 0s 348us/step - loss: 0.2757 - accuracy: 0.8960\n",
      "Epoch 37/100\n",
      "24/24 [==============================] - 0s 392us/step - loss: 0.2723 - accuracy: 0.8973\n",
      "Epoch 38/100\n",
      "24/24 [==============================] - 0s 348us/step - loss: 0.2691 - accuracy: 0.8960\n",
      "Epoch 39/100\n",
      "24/24 [==============================] - 0s 392us/step - loss: 0.2664 - accuracy: 0.8987\n",
      "Epoch 40/100\n",
      "24/24 [==============================] - 0s 392us/step - loss: 0.2639 - accuracy: 0.8987\n",
      "Epoch 41/100\n",
      "24/24 [==============================] - 0s 392us/step - loss: 0.2616 - accuracy: 0.9000\n",
      "Epoch 42/100\n",
      "24/24 [==============================] - 0s 392us/step - loss: 0.2596 - accuracy: 0.9000\n",
      "Epoch 43/100\n",
      "24/24 [==============================] - 0s 348us/step - loss: 0.2577 - accuracy: 0.9000\n",
      "Epoch 44/100\n",
      "24/24 [==============================] - 0s 348us/step - loss: 0.2560 - accuracy: 0.9013\n",
      "Epoch 45/100\n",
      "24/24 [==============================] - 0s 392us/step - loss: 0.2544 - accuracy: 0.9013\n",
      "Epoch 46/100\n",
      "24/24 [==============================] - 0s 348us/step - loss: 0.2529 - accuracy: 0.9013\n",
      "Epoch 47/100\n",
      "24/24 [==============================] - 0s 392us/step - loss: 0.2517 - accuracy: 0.9013\n",
      "Epoch 48/100\n",
      "24/24 [==============================] - 0s 392us/step - loss: 0.2505 - accuracy: 0.9013\n",
      "Epoch 49/100\n",
      "24/24 [==============================] - 0s 392us/step - loss: 0.2494 - accuracy: 0.9013\n",
      "Epoch 50/100\n",
      "24/24 [==============================] - 0s 392us/step - loss: 0.2485 - accuracy: 0.9013\n",
      "Epoch 51/100\n",
      "24/24 [==============================] - 0s 392us/step - loss: 0.2475 - accuracy: 0.9013\n",
      "Epoch 52/100\n",
      "24/24 [==============================] - 0s 392us/step - loss: 0.2467 - accuracy: 0.9013\n",
      "Epoch 53/100\n",
      "24/24 [==============================] - 0s 392us/step - loss: 0.2459 - accuracy: 0.9013\n",
      "Epoch 54/100\n",
      "24/24 [==============================] - 0s 348us/step - loss: 0.2451 - accuracy: 0.9013\n",
      "Epoch 55/100\n",
      "24/24 [==============================] - 0s 392us/step - loss: 0.2444 - accuracy: 0.9013\n",
      "Epoch 56/100\n",
      "24/24 [==============================] - 0s 392us/step - loss: 0.2438 - accuracy: 0.9013\n",
      "Epoch 57/100\n",
      "24/24 [==============================] - 0s 392us/step - loss: 0.2432 - accuracy: 0.9013\n",
      "Epoch 58/100\n",
      "24/24 [==============================] - 0s 348us/step - loss: 0.2426 - accuracy: 0.9013\n",
      "Epoch 59/100\n",
      "24/24 [==============================] - 0s 392us/step - loss: 0.2421 - accuracy: 0.9013\n",
      "Epoch 60/100\n",
      "24/24 [==============================] - 0s 392us/step - loss: 0.2415 - accuracy: 0.9013\n",
      "Epoch 61/100\n",
      "24/24 [==============================] - 0s 392us/step - loss: 0.2410 - accuracy: 0.9013\n",
      "Epoch 62/100\n",
      "24/24 [==============================] - 0s 348us/step - loss: 0.2406 - accuracy: 0.9013\n",
      "Epoch 63/100\n",
      "24/24 [==============================] - 0s 348us/step - loss: 0.2401 - accuracy: 0.9013\n",
      "Epoch 64/100\n",
      "24/24 [==============================] - 0s 392us/step - loss: 0.2398 - accuracy: 0.9027\n",
      "Epoch 65/100\n",
      "24/24 [==============================] - 0s 392us/step - loss: 0.2392 - accuracy: 0.9040\n",
      "Epoch 66/100\n",
      "24/24 [==============================] - 0s 392us/step - loss: 0.2389 - accuracy: 0.9040\n",
      "Epoch 67/100\n",
      "24/24 [==============================] - 0s 392us/step - loss: 0.2385 - accuracy: 0.9040\n",
      "Epoch 68/100\n",
      "24/24 [==============================] - 0s 392us/step - loss: 0.2382 - accuracy: 0.9040\n",
      "Epoch 69/100\n",
      "24/24 [==============================] - 0s 392us/step - loss: 0.2379 - accuracy: 0.9027\n",
      "Epoch 70/100\n",
      "24/24 [==============================] - 0s 392us/step - loss: 0.2376 - accuracy: 0.9027\n",
      "Epoch 71/100\n",
      "24/24 [==============================] - 0s 392us/step - loss: 0.2371 - accuracy: 0.9027\n",
      "Epoch 72/100\n",
      "24/24 [==============================] - 0s 348us/step - loss: 0.2367 - accuracy: 0.9027\n",
      "Epoch 73/100\n",
      "24/24 [==============================] - 0s 392us/step - loss: 0.2364 - accuracy: 0.9013\n",
      "Epoch 74/100\n",
      "24/24 [==============================] - 0s 392us/step - loss: 0.2361 - accuracy: 0.9027\n",
      "Epoch 75/100\n",
      "24/24 [==============================] - 0s 348us/step - loss: 0.2357 - accuracy: 0.9027\n",
      "Epoch 76/100\n",
      "24/24 [==============================] - 0s 348us/step - loss: 0.2354 - accuracy: 0.9027\n",
      "Epoch 77/100\n",
      "24/24 [==============================] - 0s 392us/step - loss: 0.2350 - accuracy: 0.9027\n",
      "Epoch 78/100\n",
      "24/24 [==============================] - 0s 392us/step - loss: 0.2347 - accuracy: 0.9027\n",
      "Epoch 79/100\n",
      "24/24 [==============================] - 0s 392us/step - loss: 0.2344 - accuracy: 0.9027\n",
      "Epoch 80/100\n",
      "24/24 [==============================] - 0s 435us/step - loss: 0.2340 - accuracy: 0.9040\n",
      "Epoch 81/100\n"
     ]
    },
    {
     "name": "stdout",
     "output_type": "stream",
     "text": [
      "24/24 [==============================] - 0s 392us/step - loss: 0.2336 - accuracy: 0.9040\n",
      "Epoch 82/100\n",
      "24/24 [==============================] - 0s 392us/step - loss: 0.2333 - accuracy: 0.9027\n",
      "Epoch 83/100\n",
      "24/24 [==============================] - 0s 348us/step - loss: 0.2332 - accuracy: 0.9053\n",
      "Epoch 84/100\n",
      "24/24 [==============================] - 0s 392us/step - loss: 0.2327 - accuracy: 0.9013\n",
      "Epoch 85/100\n",
      "24/24 [==============================] - 0s 392us/step - loss: 0.2323 - accuracy: 0.9027\n",
      "Epoch 86/100\n",
      "24/24 [==============================] - 0s 392us/step - loss: 0.2319 - accuracy: 0.9027\n",
      "Epoch 87/100\n",
      "24/24 [==============================] - 0s 392us/step - loss: 0.2315 - accuracy: 0.9027\n",
      "Epoch 88/100\n",
      "24/24 [==============================] - 0s 392us/step - loss: 0.2312 - accuracy: 0.9027\n",
      "Epoch 89/100\n",
      "24/24 [==============================] - 0s 392us/step - loss: 0.2309 - accuracy: 0.9027\n",
      "Epoch 90/100\n",
      "24/24 [==============================] - 0s 392us/step - loss: 0.2306 - accuracy: 0.9027\n",
      "Epoch 91/100\n",
      "24/24 [==============================] - 0s 348us/step - loss: 0.2302 - accuracy: 0.9027\n",
      "Epoch 92/100\n",
      "24/24 [==============================] - 0s 348us/step - loss: 0.2298 - accuracy: 0.9040\n",
      "Epoch 93/100\n",
      "24/24 [==============================] - 0s 348us/step - loss: 0.2296 - accuracy: 0.9040\n",
      "Epoch 94/100\n",
      "24/24 [==============================] - 0s 348us/step - loss: 0.2291 - accuracy: 0.9053\n",
      "Epoch 95/100\n",
      "24/24 [==============================] - 0s 392us/step - loss: 0.2287 - accuracy: 0.9053\n",
      "Epoch 96/100\n",
      "24/24 [==============================] - 0s 392us/step - loss: 0.2284 - accuracy: 0.9053\n",
      "Epoch 97/100\n",
      "24/24 [==============================] - 0s 348us/step - loss: 0.2280 - accuracy: 0.9040\n",
      "Epoch 98/100\n",
      "24/24 [==============================] - 0s 392us/step - loss: 0.2278 - accuracy: 0.9040\n",
      "Epoch 99/100\n",
      "24/24 [==============================] - 0s 392us/step - loss: 0.2272 - accuracy: 0.9040\n",
      "Epoch 100/100\n",
      "24/24 [==============================] - 0s 348us/step - loss: 0.2268 - accuracy: 0.9053\n"
     ]
    }
   ],
   "source": [
    "# Compile the Sequential model together and customize metrics\n",
    "new_model.compile(loss=\"binary_crossentropy\", optimizer=\"adam\", metrics=[\"accuracy\"])\n",
    "\n",
    "# Fit the model to the training data\n",
    "new_fit_model = new_model.fit(X_moon_train_scaled, y_moon_train, epochs=100, shuffle=True)"
   ]
  },
  {
   "cell_type": "code",
   "execution_count": null,
   "metadata": {},
   "outputs": [],
   "source": []
  },
  {
   "cell_type": "code",
   "execution_count": null,
   "metadata": {},
   "outputs": [],
   "source": []
  },
  {
   "cell_type": "code",
   "execution_count": null,
   "metadata": {},
   "outputs": [],
   "source": []
  },
  {
   "cell_type": "code",
   "execution_count": null,
   "metadata": {},
   "outputs": [],
   "source": []
  },
  {
   "cell_type": "code",
   "execution_count": null,
   "metadata": {},
   "outputs": [],
   "source": []
  },
  {
   "cell_type": "code",
   "execution_count": null,
   "metadata": {},
   "outputs": [],
   "source": []
  },
  {
   "cell_type": "code",
   "execution_count": null,
   "metadata": {},
   "outputs": [],
   "source": []
  },
  {
   "cell_type": "code",
   "execution_count": null,
   "metadata": {},
   "outputs": [],
   "source": []
  },
  {
   "cell_type": "code",
   "execution_count": null,
   "metadata": {},
   "outputs": [],
   "source": []
  },
  {
   "cell_type": "code",
   "execution_count": null,
   "metadata": {},
   "outputs": [],
   "source": []
  }
 ],
 "metadata": {
  "kernelspec": {
   "display_name": "PythonData",
   "language": "python",
   "name": "pythondata"
  },
  "language_info": {
   "codemirror_mode": {
    "name": "ipython",
    "version": 3
   },
   "file_extension": ".py",
   "mimetype": "text/x-python",
   "name": "python",
   "nbconvert_exporter": "python",
   "pygments_lexer": "ipython3",
   "version": "3.7.9"
  }
 },
 "nbformat": 4,
 "nbformat_minor": 4
}
